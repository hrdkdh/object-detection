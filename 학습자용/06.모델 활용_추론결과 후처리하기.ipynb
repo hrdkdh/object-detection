{
 "cells": [
  {
   "cell_type": "code",
   "execution_count": null,
   "metadata": {},
   "outputs": [],
   "source": [
    "import cv2\n",
    "import numpy as np\n",
    "import tensorflow as tf"
   ]
  },
  {
   "cell_type": "markdown",
   "metadata": {},
   "source": [
    "### 25200개의 바운딩박스에서 좋은 바운딩박스만 걸러내고,\n",
    "\n",
    "### Non-Maximun Suppresion으로 겹쳐진 바운딩박스 정리하기"
   ]
  },
  {
   "cell_type": "markdown",
   "metadata": {},
   "source": [
    "1. 앞 단계와 동일하게 모델 로드 후 테스트 이미지를 넣고 추론을 실시합니다."
   ]
  },
  {
   "cell_type": "code",
   "execution_count": null,
   "metadata": {},
   "outputs": [],
   "source": [
    "model = tf.saved_model.load(\"../best_saved_model\")\n",
    "src = cv2.imread(\"../test_images/test_image.png\")\n",
    "src_converted = cv2.cvtColor(src, cv2.COLOR_BGR2RGB)\n",
    "src_resized = cv2.resize(src_converted, (640, 640))\n",
    "src_resized = src_resized.reshape((1, 640, 640, 3))\n",
    "src_resized = src_resized/255.\n",
    "pred = model(src_resized)\n",
    "pred = pred[0][0].numpy() # -> 추론결과를 담은 (25200, 7) 모양의 numpy ndarray"
   ]
  },
  {
   "cell_type": "markdown",
   "metadata": {},
   "source": [
    "2. 추론 결과를 obj conf.로 cutoff하여(필터링) 후보군을 추려내겠습니다."
   ]
  },
  {
   "cell_type": "code",
   "execution_count": null,
   "metadata": {},
   "outputs": [],
   "source": [
    "#여기에 코드를 작성하세요"
   ]
  },
  {
   "cell_type": "markdown",
   "metadata": {},
   "source": [
    "3. 추려낸 후보군의 바운딩박스를 이미지로 그려 확인해 보겠습니다."
   ]
  },
  {
   "cell_type": "code",
   "execution_count": null,
   "metadata": {},
   "outputs": [],
   "source": [
    "#여기에 코드를 작성하세요"
   ]
  },
  {
   "cell_type": "markdown",
   "metadata": {},
   "source": [
    "확률값이 0.25보다 낮은 바운딩박스는 모두 제거되어 이전보다 매우 깔끔해진 결과를 볼 수 있습니다. 하지만, 여전히 하나의 오브젝트에 너무 많은 바운딩박스가 겹쳐진 채로 출력되고 있습니다."
   ]
  },
  {
   "cell_type": "markdown",
   "metadata": {},
   "source": [
    "4. Non Maximum Suppression으로 겹쳐진 바운딩박스들을 하나로 정리하겠습니다."
   ]
  },
  {
   "cell_type": "code",
   "execution_count": null,
   "metadata": {},
   "outputs": [],
   "source": [
    "#여기에 코드를 작성하세요"
   ]
  },
  {
   "cell_type": "markdown",
   "metadata": {},
   "source": [
    "겹쳐진 바운딩박스가 정리되어 결과가 훨씬 깔끔하게 출력되었습니다.\n",
    "\n",
    "다른 클래스의 바운딩박스가 서로 겹쳐져 있을 때는 어떻게 할 것인지, 작은 바운딩박스가 여러개 겹쳐져 있을 때 Merging을 어떻게 할 것인지 등 다양한 케이스가 존재할텐데 이러한 추가적인 후처리는 학습목적상 생략하였습니다. 부록 코드를 참고해 추후 스스로 구현해 보기 바랍니다."
   ]
  },
  {
   "cell_type": "markdown",
   "metadata": {},
   "source": [
    "### 동영상에 적용해 결과 보기"
   ]
  },
  {
   "cell_type": "code",
   "execution_count": null,
   "metadata": {},
   "outputs": [],
   "source": [
    "#여기에 코드를 작성하세요"
   ]
  },
  {
   "attachments": {},
   "cell_type": "markdown",
   "metadata": {},
   "source": [
    "### Lessons\n",
    "\n",
    "1. 물체감지는 라벨링 작업에 시간이 많이 걸리므로 이번 실습은 일반에 공개된 데이터를 활용해 진행할 수 밖에 없었습니다. 현업에서 실제 활용할 목적으로 모델을 만들고자 한다면, 이미지 수집과 함께 라벨링 작업을 진행해 주어야 합니다.\n",
    "\n",
    "2. 모델을 만드는 것 보다 데이터 전처리/후처리가 더 힘들고 공력이 많이 들어갑니다. 알고리즘에 대한 이해도 중요하지만, 전처리/후처리를 위한 코딩 기본기도 잘 닦아 놓기 바랍니다."
   ]
  }
 ],
 "metadata": {
  "kernelspec": {
   "display_name": "Python 3.9.10 ('venv_common': venv)",
   "language": "python",
   "name": "python3"
  },
  "language_info": {
   "codemirror_mode": {
    "name": "ipython",
    "version": 3
   },
   "file_extension": ".py",
   "mimetype": "text/x-python",
   "name": "python",
   "nbconvert_exporter": "python",
   "pygments_lexer": "ipython3",
   "version": "3.9.10"
  },
  "orig_nbformat": 4,
  "vscode": {
   "interpreter": {
    "hash": "00788648533811c0d4af57f0819dead35b430506c7c842538b9d24915bb6fd49"
   }
  }
 },
 "nbformat": 4,
 "nbformat_minor": 2
}
