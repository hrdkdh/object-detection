{
 "cells": [
  {
   "attachments": {},
   "cell_type": "markdown",
   "metadata": {},
   "source": [
    "### 도로표지판과 신호등 클래스를 담고 있는 파일만 선별\n",
    "\n",
    "- 우리는 2번 클래스(도로표지판)과 3번 클래스(신호등)만 감지하는 모델을 만들 것입니다.\n",
    "\n",
    "- 따라서, 2번 클래스와 3번 클래스 라벨이 없는 이미지는 사용할 필요가 없으므로 제외합니다.\n",
    "\n",
    "- 단, 제외된 이미지들 중 일부는 모델 정확도를 높이고 오탐지(False Positive)를 줄이기 위한 Background image로 추후에 사용할 것입니다.\n",
    "\n",
    "원천 데이터 파일이 저장된 폴더 구조를 다시 봅시다.\n",
    "\n",
    ">&nbsp;&nbsp;<br>\n",
    ">D드라이브<br>\n",
    ">&nbsp;&nbsp;└ pgu_traffic_dataset<br>\n",
    ">&nbsp;&nbsp;&nbsp;&nbsp;&nbsp;&nbsp;└ sources<br>\n",
    ">&nbsp;&nbsp;&nbsp;&nbsp;&nbsp;&nbsp;&nbsp;&nbsp;&nbsp;&nbsp;└ images → 이미지 파일(png) 18,481개<br>\n",
    ">&nbsp;&nbsp;&nbsp;&nbsp;&nbsp;&nbsp;&nbsp;&nbsp;&nbsp;&nbsp;└ annotations → 라벨 파일(json) 18,481개<br>\n",
    ">&nbsp;&nbsp;"
   ]
  },
  {
   "cell_type": "code",
   "execution_count": null,
   "metadata": {},
   "outputs": [],
   "source": [
    "import os\n",
    "import json\n",
    "import pandas as pd\n",
    "from tqdm import tqdm"
   ]
  },
  {
   "cell_type": "code",
   "execution_count": null,
   "metadata": {},
   "outputs": [],
   "source": [
    "ann_path = \"D:/pgu_traffic_dataset/sources/annotations\"\n",
    "ann_file_list = os.listdir(ann_path)"
   ]
  },
  {
   "attachments": {},
   "cell_type": "markdown",
   "metadata": {},
   "source": [
    "2번 혹은 3번 클래스 정보를 담고 있는 annotation 파일만 걸러내 selected에 파일명을 담아 놓습니다.\n",
    "\n",
    "반복문을 도는 김에 2번 클래스의 개수와 3번 클래스의 개수를 계산해 데이터 균형이 맞는지 확인합니다."
   ]
  },
  {
   "cell_type": "code",
   "execution_count": null,
   "metadata": {},
   "outputs": [],
   "source": [
    "#여기에 코드를 작성하세요"
   ]
  },
  {
   "attachments": {},
   "cell_type": "markdown",
   "metadata": {},
   "source": [
    "클래스 별 개수는 균형이 맞아야 모델 성능이 좋아집니다. 지금처럼 개수 차이가 나는 상황에서는 3개의 선택지가 있습니다.\n",
    "\n",
    "1. 3번 클래스가 포함되어 있는 이미지를 더 추가한다.\n",
    "\n",
    "2. 2번 클래스가 포함되어 있는 이미지를 삭제한다.\n",
    "\n",
    "3. 데이터 불균형이 있지만 그냥 진행한다.\n",
    "\n",
    "1번이 모델 성능에 가장 좋겠으나, 추가할 이미지가 없고 데이터 양이 충분하므로 2번 방식으로 진행합니다."
   ]
  },
  {
   "cell_type": "code",
   "execution_count": null,
   "metadata": {},
   "outputs": [],
   "source": [
    "#여기에 코드를 작성하세요"
   ]
  },
  {
   "attachments": {},
   "cell_type": "markdown",
   "metadata": {},
   "source": [
    "최종 선택된 파일 목록을 파일로 저장해 놓습니다.\n",
    "백그라운드 이미지 또한 추후 사용할 것이므로 목록을 파일로 저장해 놓습니다."
   ]
  },
  {
   "cell_type": "code",
   "execution_count": null,
   "metadata": {},
   "outputs": [],
   "source": [
    "#여기에 코드를 작성하세요"
   ]
  }
 ],
 "metadata": {
  "kernelspec": {
   "display_name": "Python 3.9.10 ('venv_common': venv)",
   "language": "python",
   "name": "python3"
  },
  "language_info": {
   "codemirror_mode": {
    "name": "ipython",
    "version": 3
   },
   "file_extension": ".py",
   "mimetype": "text/x-python",
   "name": "python",
   "nbconvert_exporter": "python",
   "pygments_lexer": "ipython3",
   "version": "3.9.10"
  },
  "orig_nbformat": 4,
  "vscode": {
   "interpreter": {
    "hash": "00788648533811c0d4af57f0819dead35b430506c7c842538b9d24915bb6fd49"
   }
  }
 },
 "nbformat": 4,
 "nbformat_minor": 2
}
