{
 "cells": [
  {
   "attachments": {},
   "cell_type": "markdown",
   "metadata": {},
   "source": [
    "### 어노테이션 파일의 라벨링 구조를 확인하고 화면에 바운딩 박스를 그려 실제로 확인\n",
    "\n",
    "원천 데이터 파일은 D드라이브에 아래와 같이 저장되어 있습니다.\n",
    "\n",
    ">&nbsp;&nbsp;<br>\n",
    ">D드라이브<br>\n",
    ">&nbsp;&nbsp;└ pgu_traffic_dataset<br>\n",
    ">&nbsp;&nbsp;&nbsp;&nbsp;&nbsp;&nbsp;└ sources<br>\n",
    ">&nbsp;&nbsp;&nbsp;&nbsp;&nbsp;&nbsp;&nbsp;&nbsp;&nbsp;&nbsp;└ images → 이미지 파일(png) 18,481개<br>\n",
    ">&nbsp;&nbsp;&nbsp;&nbsp;&nbsp;&nbsp;&nbsp;&nbsp;&nbsp;&nbsp;└ annotations → 라벨 파일(json) 18,481개<br>\n",
    ">&nbsp;&nbsp;"
   ]
  },
  {
   "cell_type": "code",
   "execution_count": null,
   "metadata": {},
   "outputs": [],
   "source": [
    "import os\n",
    "import cv2\n",
    "import json\n",
    "import random"
   ]
  },
  {
   "cell_type": "markdown",
   "metadata": {},
   "source": [
    "json 문자열로 되어 있는 어노테이션 파일을 로드한 후 dict로 변환하고 구조와 내용을 확인해 봅니다."
   ]
  },
  {
   "cell_type": "code",
   "execution_count": null,
   "metadata": {},
   "outputs": [],
   "source": [
    "img_path = \"D:/pgu_traffic_dataset/sources/images\" #이미지 파일이 있는 폴더 경로를 변수에 저장\n",
    "ann_path = \"D:/pgu_traffic_dataset/sources/annotations\" #어노테이션 파일이 있는 폴더 경로를 변수에 저장\n",
    "img_file_list = os.listdir(img_path) #이미지 폴더에 있는 파일들의 목록을 불러와 변수에 저장\n",
    "ann_file_list = os.listdir(ann_path) #어노테이션 폴더에 있는 파일들의 목록을 불러와 변수에 저장"
   ]
  },
  {
   "cell_type": "code",
   "execution_count": null,
   "metadata": {},
   "outputs": [],
   "source": [
    "#가장 첫 번째 어노테이션 파일을 불러와 내용 확인\n",
    "ann_sample_str = open(\"{}/{}\".format(ann_path, ann_file_list[0]), \"r\").read()\n",
    "ann_sample = json.loads(ann_sample_str) #json 유형으로 저장되어 있음. json 모듈을 이용해 dict로 변환\n",
    "ann_sample[\"info\"] # -> 촬영에 대한 기본 정보(촬영일시, 촬영자 등)를 담고 있음"
   ]
  },
  {
   "cell_type": "code",
   "execution_count": null,
   "metadata": {},
   "outputs": [],
   "source": [
    "ann_sample[\"images\"] # -> 이미지 파일에 대한 기본 정보(파일명, 해상도)를 담고 있음"
   ]
  },
  {
   "cell_type": "code",
   "execution_count": null,
   "metadata": {},
   "outputs": [],
   "source": [
    "ann_sample[\"annotations\"] # -> 이미지 파일에 대응되는 라벨링 정보(바운딩박스 좌표 등)를 담고 있음"
   ]
  },
  {
   "cell_type": "code",
   "execution_count": null,
   "metadata": {},
   "outputs": [],
   "source": [
    "len(ann_sample[\"annotations\"]) # -> 28개의 바운딩 박스 정보(딕셔너리)로 구성된 리스트. 즉, 이 경우 한장의 사진에 28개의 라벨이 있음"
   ]
  },
  {
   "cell_type": "code",
   "execution_count": null,
   "metadata": {},
   "outputs": [],
   "source": [
    "ann_sample[\"annotations\"][0] # -> 0번째 라벨 정보를 보면 바운딩 박스 정보와 다른 정보들을 담고 있음을 알 수 있음"
   ]
  },
  {
   "cell_type": "markdown",
   "metadata": {},
   "source": [
    "openCV를 활용해 이미지 파일을 화면에 띄운 다음 라벨링 정보를 반영해 바운딩박스를 그려봅니다."
   ]
  },
  {
   "cell_type": "code",
   "execution_count": null,
   "metadata": {},
   "outputs": [],
   "source": [
    "#openCV imread를 통해 ann_sample에 지정된 이미지 파일을 numpy ndarray로 로드\n",
    "src = cv2.imread(\"{}/{}\".format(img_path, ann_sample[\"images\"][\"file_name\"]))\n",
    "dst = src.copy() #바운딩박스를 그릴 이미지를 원본에서 복사해 dst 변수에 저장\n",
    "for bbox in ann_sample[\"annotations\"]: #이 이미지에 지정된 라벨링 개수만큼 반복\n",
    "    x = int(bbox[\"bbox\"][0]) #바운딩 박스의 좌상단 x 좌표\n",
    "    y = int(bbox[\"bbox\"][1]) #바운딩 박스의 좌상단 y 좌표\n",
    "    w = int(bbox[\"bbox\"][2]) #바운딩 박스의 너비\n",
    "    h = int(bbox[\"bbox\"][3]) #바운딩 박스의 높이\n",
    "    c_no = bbox[\"category_id\"] #클래스 넘버 : 1 → 기둥(전신주 등), 2 → 도로표지판, 3 → 신호등 ...\n",
    "    dst = cv2.rectangle(dst, (x, y, w, h), (0, 255, 0), 1)\n",
    "    dst = cv2.putText(dst, str(c_no), (x, y), cv2.FONT_HERSHEY_DUPLEX, 0.7, (0, 255, 0), 1)\n",
    "cv2.imshow(\"dst\", dst)\n",
    "cv2.waitKey()\n",
    "cv2.destroyAllWindows()"
   ]
  },
  {
   "attachments": {},
   "cell_type": "markdown",
   "metadata": {},
   "source": [
    "반복문을 통해 랜덤으로 이미지를 불러와 라벨링이 제대로 되어 있는지 확인합니다."
   ]
  },
  {
   "cell_type": "code",
   "execution_count": null,
   "metadata": {},
   "outputs": [],
   "source": [
    "#랜덤값을 인덱스로 하여 총 30장의 이미지만 무작위로 뽑아올 수 있게 함\n",
    "random_no_list = [random.randrange(0, len(ann_file_list)) for _ in range(0, 30)]\n",
    "for idx in random_no_list:\n",
    "    ann_str = open(\"{}/{}\".format(ann_path, ann_file_list[idx]), \"r\").read()\n",
    "    ann = json.loads(ann_str)\n",
    "    #openCV를 활용해 이미지 파일을 띄운 다음 라벨링 정보를 반영해 바운딩박스를 그려봄\n",
    "    src = cv2.imread(\"{}/{}\".format(img_path, ann[\"images\"][\"file_name\"]))\n",
    "    dst = src.copy()\n",
    "    for bbox in ann[\"annotations\"]:\n",
    "        x = int(bbox[\"bbox\"][0]) #바운딩 박스의 좌상단 x 좌표\n",
    "        y = int(bbox[\"bbox\"][1]) #바운딩 박스의 좌상단 y 좌표\n",
    "        w = int(bbox[\"bbox\"][2]) #바운딩 박스의 너비\n",
    "        h = int(bbox[\"bbox\"][3]) #바운딩 박스의 높이\n",
    "        c_no = bbox[\"category_id\"] #클래스 넘버\n",
    "        # 1 → 기둥(전신주 등)\n",
    "        # 2 → 도로표지판\n",
    "        # 3 → 신호등\n",
    "        # 4 → 터널 천장에 있는 환풍기\n",
    "        # 5 → 터널 벽에 있는 조명\n",
    "        # 6 → 터널 벽에 있는 표지판\n",
    "        if c_no > 1:\n",
    "            dst = cv2.rectangle(dst, (x, y, w, h), (0, 255, 0), 1)\n",
    "            dst = cv2.putText(dst, str(c_no), (x, y), cv2.FONT_HERSHEY_DUPLEX, 0.7, (0, 255, 0), 1)\n",
    "    cv2.imshow(\"dst\", dst)\n",
    "    if cv2.waitKey() == 27:\n",
    "        break\n",
    "    else:\n",
    "        continue\n",
    "cv2.destroyAllWindows()"
   ]
  }
 ],
 "metadata": {
  "kernelspec": {
   "display_name": "Python 3.9.10 ('venv_common': venv)",
   "language": "python",
   "name": "python3"
  },
  "language_info": {
   "codemirror_mode": {
    "name": "ipython",
    "version": 3
   },
   "file_extension": ".py",
   "mimetype": "text/x-python",
   "name": "python",
   "nbconvert_exporter": "python",
   "pygments_lexer": "ipython3",
   "version": "3.9.10"
  },
  "orig_nbformat": 4,
  "vscode": {
   "interpreter": {
    "hash": "00788648533811c0d4af57f0819dead35b430506c7c842538b9d24915bb6fd49"
   }
  }
 },
 "nbformat": 4,
 "nbformat_minor": 2
}
