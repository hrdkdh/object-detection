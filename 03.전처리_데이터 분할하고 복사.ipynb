{
 "cells": [
  {
   "attachments": {},
   "cell_type": "markdown",
   "metadata": {},
   "source": [
    "### 선별된 파일 목록을 불러온 후 Train-Validation으로 분할하고 이미지 파일 복사, 라벨 파일 생성\n",
    "\n",
    "원천 데이터에서 선별한 데이터를 Training 데이터셋과 Validation 데이터셋으로 분할할 것입니다.\n",
    "\n",
    "이후 YOLOv5 전이학습에서 요구하는 포맷에 맞춰 이미지 파일을 복사시키고, 라벨 파일도 새롭게 생성할 것입니다.\n",
    "\n",
    "작업이 끝나고 나면 최종적으로 아래와 같은 폴더 구조를 가지게 될 것입니다.\n",
    "\n",
    ">&nbsp;&nbsp;<br>\n",
    ">D드라이브<br>\n",
    ">&nbsp;&nbsp;└ pgu_traffic_dataset<br>\n",
    ">&nbsp;&nbsp;&nbsp;&nbsp;&nbsp;&nbsp;└ sources → 원천데이터가 담긴 폴더<br>\n",
    ">&nbsp;&nbsp;&nbsp;&nbsp;&nbsp;&nbsp;&nbsp;&nbsp;&nbsp;&nbsp;└ images<br>\n",
    ">&nbsp;&nbsp;&nbsp;&nbsp;&nbsp;&nbsp;&nbsp;&nbsp;&nbsp;&nbsp;└ annotations<br>\n",
    ">&nbsp;&nbsp;&nbsp;&nbsp;&nbsp;&nbsp;└ selected → Yolov5에 맞춰 우리가 생성할 폴더<br>\n",
    ">&nbsp;&nbsp;&nbsp;&nbsp;&nbsp;&nbsp;&nbsp;&nbsp;&nbsp;&nbsp;└ training<br>\n",
    ">&nbsp;&nbsp;&nbsp;&nbsp;&nbsp;&nbsp;&nbsp;&nbsp;&nbsp;&nbsp;&nbsp;&nbsp;&nbsp;&nbsp;└ images<br>\n",
    ">&nbsp;&nbsp;&nbsp;&nbsp;&nbsp;&nbsp;&nbsp;&nbsp;&nbsp;&nbsp;&nbsp;&nbsp;&nbsp;&nbsp;└ labels<br>\n",
    ">&nbsp;&nbsp;&nbsp;&nbsp;&nbsp;&nbsp;&nbsp;&nbsp;&nbsp;&nbsp;└ validation<br>\n",
    ">&nbsp;&nbsp;&nbsp;&nbsp;&nbsp;&nbsp;&nbsp;&nbsp;&nbsp;&nbsp;&nbsp;&nbsp;&nbsp;&nbsp;└ images<br>\n",
    ">&nbsp;&nbsp;&nbsp;&nbsp;&nbsp;&nbsp;&nbsp;&nbsp;&nbsp;&nbsp;&nbsp;&nbsp;&nbsp;&nbsp;└ labels<br>\n",
    ">&nbsp;&nbsp;"
   ]
  },
  {
   "cell_type": "code",
   "execution_count": null,
   "metadata": {},
   "outputs": [],
   "source": [
    "import os\n",
    "import cv2\n",
    "import json\n",
    "import shutil\n",
    "import random\n",
    "import pandas as pd\n",
    "from tqdm import tqdm"
   ]
  },
  {
   "attachments": {},
   "cell_type": "markdown",
   "metadata": {},
   "source": [
    "저장한 선별 파일 목록 로드 후 Training 데이터셋과 Validation 데이터셋으로 분할합니다."
   ]
  },
  {
   "cell_type": "code",
   "execution_count": null,
   "metadata": {},
   "outputs": [],
   "source": [
    "#저장한 선별 파일 목록(json) 로드\n",
    "final_selected_ann_file_list = json.loads(open(\"최종 선별된 파일 목록.json\", \"r\").read())\n",
    "len(final_selected_ann_file_list)"
   ]
  },
  {
   "cell_type": "code",
   "execution_count": null,
   "metadata": {},
   "outputs": [],
   "source": [
    "#df로 변환\n",
    "df = pd.DataFrame(data={ \"ann파일명\" : final_selected_ann_file_list})\n",
    "df"
   ]
  },
  {
   "cell_type": "code",
   "execution_count": null,
   "metadata": {},
   "outputs": [],
   "source": [
    "#train validation set 분할\n",
    "train = df.sample(frac=0.8, random_state=1234)\n",
    "train"
   ]
  },
  {
   "cell_type": "code",
   "execution_count": null,
   "metadata": {},
   "outputs": [],
   "source": [
    "validation = df.drop(train.index)\n",
    "validation"
   ]
  },
  {
   "attachments": {},
   "cell_type": "markdown",
   "metadata": {},
   "source": [
    "파일을 복사, 저장할 폴더를 생성합니다. 파일 탐색기에서 수작업으로해도 되고 코드로 해도 됩니다.\n",
    "\n",
    "1. D드라이브 'pgu_traffic_dataset' 폴더 하위에 'selected' 폴더 생성\n",
    "\n",
    "2. 'selected' 하위에 'training'과 'validation' 폴더 생성\n",
    "\n",
    "3. 'training' 하위에 'images'와 'labels' 폴더 생성\n",
    "\n",
    "4. 'validation' 하위에 'images'와 'labels' 폴더 생성\n",
    "\n",
    "작업이 끝나면 아래와 같은 폴더 구조가 만들어졌는지 확인합니다.\n",
    "\n",
    ">&nbsp;&nbsp;<br>\n",
    ">D드라이브<br>\n",
    ">&nbsp;&nbsp;└ pgu_traffic_dataset<br>\n",
    ">&nbsp;&nbsp;&nbsp;&nbsp;&nbsp;&nbsp;└ sources → 원천데이터가 담긴 폴더<br>\n",
    ">&nbsp;&nbsp;&nbsp;&nbsp;&nbsp;&nbsp;&nbsp;&nbsp;&nbsp;&nbsp;└ images<br>\n",
    ">&nbsp;&nbsp;&nbsp;&nbsp;&nbsp;&nbsp;&nbsp;&nbsp;&nbsp;&nbsp;└ annotations<br>\n",
    ">&nbsp;&nbsp;&nbsp;&nbsp;&nbsp;&nbsp;└ selected → Yolov5에 맞춰 우리가 생성할 폴더<br>\n",
    ">&nbsp;&nbsp;&nbsp;&nbsp;&nbsp;&nbsp;&nbsp;&nbsp;&nbsp;&nbsp;└ training<br>\n",
    ">&nbsp;&nbsp;&nbsp;&nbsp;&nbsp;&nbsp;&nbsp;&nbsp;&nbsp;&nbsp;&nbsp;&nbsp;&nbsp;&nbsp;└ images<br>\n",
    ">&nbsp;&nbsp;&nbsp;&nbsp;&nbsp;&nbsp;&nbsp;&nbsp;&nbsp;&nbsp;&nbsp;&nbsp;&nbsp;&nbsp;└ labels<br>\n",
    ">&nbsp;&nbsp;&nbsp;&nbsp;&nbsp;&nbsp;&nbsp;&nbsp;&nbsp;&nbsp;└ validation<br>\n",
    ">&nbsp;&nbsp;&nbsp;&nbsp;&nbsp;&nbsp;&nbsp;&nbsp;&nbsp;&nbsp;&nbsp;&nbsp;&nbsp;&nbsp;└ images<br>\n",
    ">&nbsp;&nbsp;&nbsp;&nbsp;&nbsp;&nbsp;&nbsp;&nbsp;&nbsp;&nbsp;&nbsp;&nbsp;&nbsp;&nbsp;└ labels<br>\n",
    ">&nbsp;&nbsp;"
   ]
  },
  {
   "cell_type": "code",
   "execution_count": null,
   "metadata": {},
   "outputs": [],
   "source": [
    "src_path = \"D:/pgu_traffic_dataset/sources\"\n",
    "dst_path = \"D:/pgu_traffic_dataset/selected\"\n",
    "\n",
    "#train, validation 이미지 파일 복사 및 라벨 생성\n",
    "# target_dir = \"training\"\n",
    "# target_df = train.copy()\n",
    "\n",
    "target_dir = \"validation\"\n",
    "target_df = validation.copy()\n",
    "for ann_file_name in tqdm(target_df[\"ann파일명\"].tolist()):\n",
    "    #이미지 파일을 selected 폴더에 있는 training > images 폴더로 복사한다.\n",
    "    src_img_path = \"{}/images/{}.png\".format(src_path, ann_file_name.split(\".\")[0])\n",
    "    dst_img_path = \"{}/{}/images/{}.png\".format(dst_path, target_dir, ann_file_name.split(\".\")[0])\n",
    "    shutil.copy(src_img_path, dst_img_path) #이미지 파일 복사\n",
    "\n",
    "    #라벨 파일을 연다음 Yolov5에 맞춰 파일을 생성하고 training > labels 폴더로 복사한다.\n",
    "    ann_data = json.loads(open(\"{}/annotations/{}\".format(src_path, ann_file_name), \"r\").read())\n",
    "    \n",
    "    #바운딩 박스를 0~1 값으로 rescaling을 하기 위해 이미지의 너비/높이 값을 가져와 저장한다.\n",
    "    iw = ann_data[\"images\"][\"width\"]\n",
    "    ih = ann_data[\"images\"][\"height\"]\n",
    "    label_text = \"\"\n",
    "    for ann in ann_data[\"annotations\"]:\n",
    "        #Yolo 모델은 바운딩 박스 라벨링 포맷을 centerx, centery, width, height로 하고 있다.\n",
    "        #또한 0~1 사이 값으로 표준화된 수치로 넣어줘야 하므로, 거기에 맞춰 바운딩 박스 정보를 편집한다.\n",
    "        x = int(ann[\"bbox\"][0])\n",
    "        y = int(ann[\"bbox\"][1])\n",
    "        w = int(ann[\"bbox\"][2])\n",
    "        h = int(ann[\"bbox\"][3])\n",
    "        cx = x + int(w/2)\n",
    "        cy = y + int(h/2)\n",
    "\n",
    "        #0~1 사이 값으로 표준화한다.\n",
    "        cx = cx/iw\n",
    "        cy = cy/ih\n",
    "        w = w/iw\n",
    "        h = h/ih\n",
    "\n",
    "        if ann[\"category_id\"] == 2:\n",
    "            label_text += \"{}\\t{}\\t{}\\t{}\\t{}\\n\".format(\"0\", cx, cy, w, h) #2번 클래스는 class no를 0으로 치환한다.\n",
    "        elif ann[\"category_id\"] == 3:\n",
    "            label_text += \"{}\\t{}\\t{}\\t{}\\t{}\\n\".format(\"1\", cx, cy, w, h) #3번 클래스는 class no를 1로 치환한다.\n",
    "    label_text = label_text[:-1] #문자열 마지막에 줄바꿈 기호(\\n)이 있으므로 제거해 준다.\n",
    "\n",
    "    #Yolo 포맷에 맞춰 완성된 라벨 내용을 파일로 기록하여 저장한다.\n",
    "    dst_label_path = \"{}/{}/labels/{}.txt\".format(dst_path, target_dir, ann_file_name.split(\".\")[0])\n",
    "    open(dst_label_path, \"w\", encoding=\"utf-8\").write(label_text)"
   ]
  },
  {
   "attachments": {},
   "cell_type": "markdown",
   "metadata": {},
   "source": [
    "이미지를 랜덤하게 가져와 라벨링 정보가 올바른지 확인해 봅니다.\n",
    "\n",
    "그전에 먼저, 지금까지 우리가 만든 폴더의 구조를 다시 이해해 봅시다.\n",
    "\n",
    "\n",
    ">&nbsp;&nbsp;<br>\n",
    ">D드라이브<br>\n",
    ">&nbsp;&nbsp;└ pgu_traffic_dataset<br>\n",
    ">&nbsp;&nbsp;&nbsp;&nbsp;&nbsp;&nbsp;└ sources<br>\n",
    ">&nbsp;&nbsp;&nbsp;&nbsp;&nbsp;&nbsp;&nbsp;&nbsp;&nbsp;&nbsp;└ images<br>\n",
    ">&nbsp;&nbsp;&nbsp;&nbsp;&nbsp;&nbsp;&nbsp;&nbsp;&nbsp;&nbsp;└ annotations<br>\n",
    ">&nbsp;&nbsp;&nbsp;&nbsp;&nbsp;&nbsp;└ selected<br>\n",
    ">&nbsp;&nbsp;&nbsp;&nbsp;&nbsp;&nbsp;&nbsp;&nbsp;&nbsp;&nbsp;└ training<br>\n",
    ">&nbsp;&nbsp;&nbsp;&nbsp;&nbsp;&nbsp;&nbsp;&nbsp;&nbsp;&nbsp;&nbsp;&nbsp;&nbsp;&nbsp;└ images<br>\n",
    ">&nbsp;&nbsp;&nbsp;&nbsp;&nbsp;&nbsp;&nbsp;&nbsp;&nbsp;&nbsp;&nbsp;&nbsp;&nbsp;&nbsp;└ labels<br>\n",
    ">&nbsp;&nbsp;&nbsp;&nbsp;&nbsp;&nbsp;&nbsp;&nbsp;&nbsp;&nbsp;└ validation<br>\n",
    ">&nbsp;&nbsp;&nbsp;&nbsp;&nbsp;&nbsp;&nbsp;&nbsp;&nbsp;&nbsp;&nbsp;&nbsp;&nbsp;&nbsp;└ images<br>\n",
    ">&nbsp;&nbsp;&nbsp;&nbsp;&nbsp;&nbsp;&nbsp;&nbsp;&nbsp;&nbsp;&nbsp;&nbsp;&nbsp;&nbsp;└ labels<br>\n",
    ">&nbsp;&nbsp;"
   ]
  },
  {
   "cell_type": "code",
   "execution_count": null,
   "metadata": {},
   "outputs": [],
   "source": [
    "img_path = \"D:/pgu_traffic_dataset/selected/training/images\"\n",
    "label_path = \"D:/pgu_traffic_dataset/selected/training/labels\"\n",
    "\n",
    "label_file_list = os.listdir(label_path)\n",
    "random_no_list = [random.randrange(0, len(label_file_list)) for _ in range(0, 30)] # 랜덤값을 인덱스하여 총 30장의 이미지만 무작위로 뽑아올 수 있게 한다.\n",
    "\n",
    "for idx in random_no_list:\n",
    "    label_str = open(\"{}/{}\".format(label_path, label_file_list[idx]), \"r\").read()\n",
    "\n",
    "    #openCV를 활용해 이미지 파일을 띄운 다음 라벨링 정보를 반영해 바운딩박스를 그려봄\n",
    "    src = cv2.imread(\"{}/{}.png\".format(img_path, label_file_list[idx].split(\".\")[0]))\n",
    "    dst = src.copy()\n",
    "    for bbox in label_str.split(\"\\n\"):\n",
    "        bbox = [float(x) for x in bbox.split(\"\\t\")]\n",
    "        cx = int(bbox[1]*src.shape[1])\n",
    "        cy = int(bbox[2]*src.shape[0])\n",
    "        w = int(bbox[3]*src.shape[1])\n",
    "        h = int(bbox[4]*src.shape[0])\n",
    "        x = int(cx - (w/2))\n",
    "        y = int(cy - (h/2))\n",
    "        c_no = str(int(bbox[0]))\n",
    "        dst = cv2.rectangle(dst, (x, y, w, h), (0, 255, 0), 1)\n",
    "        dst = cv2.putText(dst, str(c_no), (x, y), cv2.FONT_HERSHEY_DUPLEX, 0.7, (0, 255, 0), 1)\n",
    "    cv2.imshow(\"dst\", dst)\n",
    "    if cv2.waitKey() == 27:\n",
    "        break\n",
    "    else:\n",
    "        continue\n",
    "cv2.destroyAllWindows()"
   ]
  },
  {
   "attachments": {},
   "cell_type": "markdown",
   "metadata": {},
   "source": [
    "백그라운드 이미지(라벨이 없는 이미지)를 5~10% 넣어두면 모델 정확도를 높이고 오탐지(False Positive)를 줄일 수 있습니다.\n",
    "\n",
    "제외된 이미지들 중 일부(트레이닝 데이터 개수 4807개의 10%인 480개)를 랜덤하게 선택한 후 training > images 폴더에 복사해 넣습니다."
   ]
  },
  {
   "cell_type": "code",
   "execution_count": null,
   "metadata": {},
   "outputs": [],
   "source": [
    "#저장한 백그라운드 파일 목록(json) 로드\n",
    "background_ann_file_list = json.loads(open(\"백그라운드 파일 목록.json\", \"r\").read())\n",
    "len(background_ann_file_list)"
   ]
  },
  {
   "cell_type": "code",
   "execution_count": null,
   "metadata": {},
   "outputs": [],
   "source": [
    "#df로 변환\n",
    "df = pd.DataFrame(data={ \"ann파일명\" : background_ann_file_list})\n",
    "df"
   ]
  },
  {
   "cell_type": "code",
   "execution_count": null,
   "metadata": {},
   "outputs": [],
   "source": [
    "#train test set 분할\n",
    "backgrounds = df.sample(frac=0.36, random_state=1234) #1335개 중 36%, 즉 481개만 랜덤으로 추려낸다.\n",
    "backgrounds"
   ]
  },
  {
   "cell_type": "code",
   "execution_count": null,
   "metadata": {},
   "outputs": [],
   "source": [
    "#백그라운드 이미지 파일을 selected 폴더에 있는 training > images 폴더로 복사한다. 라벨 파일 복사는 불필요하다.\n",
    "target_dir = \"training\"\n",
    "for ann_file_name in tqdm(backgrounds[\"ann파일명\"].tolist()):\n",
    "    src_img_path = \"{}/images/{}.png\".format(src_path, ann_file_name.split(\".\")[0])\n",
    "    dst_img_path = \"{}/{}/images/{}.png\".format(dst_path, target_dir, ann_file_name.split(\".\")[0])\n",
    "    shutil.copy(src_img_path, dst_img_path) #이미지 파일 복사"
   ]
  }
 ],
 "metadata": {
  "kernelspec": {
   "display_name": "venv_yolo5",
   "language": "python",
   "name": "python3"
  },
  "language_info": {
   "codemirror_mode": {
    "name": "ipython",
    "version": 3
   },
   "file_extension": ".py",
   "mimetype": "text/x-python",
   "name": "python",
   "nbconvert_exporter": "python",
   "pygments_lexer": "ipython3",
   "version": "3.9.13 (tags/v3.9.13:6de2ca5, May 17 2022, 16:36:42) [MSC v.1929 64 bit (AMD64)]"
  },
  "orig_nbformat": 4,
  "vscode": {
   "interpreter": {
    "hash": "e07a93109243a348407d1f03253e5345c90486d4c6916849ea5c37472b4717ef"
   }
  }
 },
 "nbformat": 4,
 "nbformat_minor": 2
}
