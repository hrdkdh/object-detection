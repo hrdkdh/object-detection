{
 "cells": [
  {
   "attachments": {},
   "cell_type": "markdown",
   "metadata": {},
   "source": [
    "### Github Yolov5 리파지토리에서 커스터마이징 소스코드 다운로드\n",
    "\n",
    "1. 브라우저를 열고 https://github.com/ultralytics/yolov5 접속\n",
    "\n",
    "2. 초록색 'Code' 버튼 클릭 후 'Download ZIP' 클릭하여 코드 다운로드\n",
    "\n",
    "3. 다운로드 받은 파일을 바탕화면 -> 'yolov5-master' 폴더로 압축 해제"
   ]
  },
  {
   "attachments": {},
   "cell_type": "markdown",
   "metadata": {},
   "source": [
    "### dataset.yaml 파일 만들기\n",
    "\n",
    "- Yolov5 커스터마이징 코드 실행시 참고할 데이터셋 정보를 미리 만들어 놓아야 합니다. (YAML은 json처럼 설정/데이터를 문자열로 표현하는 문법체계 중 하나입니다)\n",
    "\n",
    "- 아래와 같이 미리 전처리해 놓은 데이터셋이 위치한 곳의 경로, 클래스 정보 등을 입력한 후 'dataset.yaml' 파일로 저장합니다.\n",
    "\n",
    "1. vs code로 새 파일을 만든 후, 바탕화면 → yolov5-master 폴더에 'dataset.yaml' 이름으로 저장합니다.\n",
    "\n",
    "2. dataset.yaml 파일에 아래와 같이 입력합니다.\n",
    "\n",
    "- path는 데이터셋이 위치한 곳의 root 경로입니다. 상황에 따라 다를 수 있으니 본인 PC에 저장된 경로를 정확히 입력하세요. 확인작업 없이 아래 내용을 그대로 복사/붙여넣기 하면 오류가 발생할 수도 있습니다.\n",
    "\n",
    ">path: E:/pgu_traffic_dataset/selected<br>\n",
    ">train: training<br>\n",
    ">val: validation<br>\n",
    "><br>\n",
    ">names:<br>\n",
    ">&nbsp;&nbsp;0: sign<br>\n",
    ">&nbsp;&nbsp;1: traffic lights<br>"
   ]
  },
  {
   "attachments": {},
   "cell_type": "markdown",
   "metadata": {},
   "source": [
    "### 아래와 같이 커맨드창에서 파이썬 코드를 실행하여 모델링 실시\n",
    "\n",
    ">{가상환경 경로명}\\Scripts\\python.exe {yolov5-master 경로명}\\train.py --img 640 --batch 16 --epochs 100 --data {yolov5-master 경로명}\\dataset.yaml --weights yolov5s.pt\n",
    "\n",
    "- 가상환경 경로명과 yolov5-master가 저장되어 있는 경로명을 정확히 입력할 것\n",
    "\n",
    "- batch 옵션을 높일수록 훈련 시간이 단축되고 역전파를 위한 샘플링이 더 많이 되겠지만, RAM이 부족하면 중단될 것이기 때문에 신중히 선택할 것\n",
    "\n",
    "- 얼마가 적절한 Epoch 회수인지는 모델링을 해 봐야 가늠할 수 있으므로 일단은 100으로 두고 실행\n",
    "\n",
    "- Yolov5는 목적에 따라 Light한 나노 모델부터 Heavy한 XLarge 모델을 제공하고 있음. 어떤 모델을 가져와 트레이닝할 것인지를 weights 옵션에서 설정(현재는 Small 모델로 되어 있음)"
   ]
  },
  {
   "attachments": {},
   "cell_type": "markdown",
   "metadata": {},
   "source": [
    "### 모델링 진행 사항을 확인하고 싶다면 아래와 같이 tensorboard를 실행\n",
    "\n",
    "1. 커멘드 창을 새롭게 하나 열고, '{가상환경 경로명}\\Scripts\\tensorboard --logdir {yolov5-master 경로명}\\runs\\train' 입력하고 실행\n",
    "\n",
    "2. 브라우저를 열고 주소창에 'localhost:6060' 입력하고 이동"
   ]
  }
 ],
 "metadata": {
  "kernelspec": {
   "display_name": "venv_yolo5",
   "language": "python",
   "name": "python3"
  },
  "language_info": {
   "name": "python",
   "version": "3.9.13 (tags/v3.9.13:6de2ca5, May 17 2022, 16:36:42) [MSC v.1929 64 bit (AMD64)]"
  },
  "orig_nbformat": 4,
  "vscode": {
   "interpreter": {
    "hash": "e07a93109243a348407d1f03253e5345c90486d4c6916849ea5c37472b4717ef"
   }
  }
 },
 "nbformat": 4,
 "nbformat_minor": 2
}
