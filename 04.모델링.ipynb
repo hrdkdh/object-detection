{
 "cells": [
  {
   "attachments": {},
   "cell_type": "markdown",
   "metadata": {},
   "source": [
    "### Github Yolov5 리파지토리에서 커스터마이징 소스코드 다운로드\n",
    "\n",
    "1. 브라우저를 열고 https://github.com/ultralytics/yolov5 접속합니다.\n",
    "\n",
    "2. 초록색 'Code' 버튼 클릭 후 'Download ZIP' 클릭하여 코드 다운로드합니다.\n",
    "\n",
    "3. 다운로드 받은 파일을 바탕화면 -> 'yolov5-master' 폴더로 압축 해제합니다."
   ]
  },
  {
   "attachments": {},
   "cell_type": "markdown",
   "metadata": {},
   "source": [
    "### dataset.yaml 파일 만들기\n",
    "\n",
    "Yolov5 커스터마이징 코드 실행시 참고할 데이터셋 정보를 미리 만들어 놓아야 합니다. (YAML은 json처럼 객체 데이터를 문자열로 표현하는 문법체계 중 하나입니다) 아래와 같이 미리 전처리해 놓은 데이터셋이 위치한 곳의 경로, 클래스 정보 등을 입력한 후 'dataset.yaml' 파일로 저장합니다.\n",
    "\n",
    "1. vs code로 새 파일을 만든 후, 바탕화면 → yolov5-master 폴더에 'dataset.yaml' 이름으로 저장합니다.\n",
    "\n",
    "2. dataset.yaml 파일에 아래와 같이 입력하고 저장하여 반영합니다.\n",
    "\n",
    ">path: D:/pgu_traffic_dataset/selected<br>\n",
    ">train: training<br>\n",
    ">val: validation<br>\n",
    "><br>\n",
    ">names:<br>\n",
    ">&nbsp;&nbsp;0: sign<br>\n",
    ">&nbsp;&nbsp;1: light<br>\n",
    "\n",
    "- path는 데이터셋이 위치한 곳의 root 경로입니다. 상황에 따라 다를 수 있으니 본인 PC에 저장된 경로를 정확히 입력하세요. 확인작업 없이 위 내용을 그대로 복사/붙여넣기 하면 오류가 발생할 수도 있습니다."
   ]
  },
  {
   "attachments": {},
   "cell_type": "markdown",
   "metadata": {},
   "source": [
    "### 아래와 같이 커맨드창에서 파이썬 코드를 실행하여 모델링 실시\n",
    "\n",
    ">{가상환경 경로명}\\Scripts\\python.exe {yolov5-master 경로명}\\train.py --img 640 --batch 32 --epochs 50 --data {yolov5-master 경로명}\\dataset.yaml --weights yolov5s.pt\n",
    "\n",
    "C:\\Users\\poscouser\\Desktop\\venv\\venv_od\\Scripts\\python.exe C:\\Users\\poscouser\\Desktop\\yolov5-master\\train.py --img 640 --batch 32 --epochs 50 --data C:\\Users\\poscouser\\Desktop\\yolov5-master\\dataset.yaml --weights yolov5s.pt\n",
    "\n",
    "- 당연한 말이지만, 가상환경 경로명과 yolov5-master가 저장되어 있는 경로명을 정확히 입력해야 합니다.\n",
    "\n",
    "- batch 옵션을 높일수록 훈련 시간이 단축되고 역전파를 위한 샘플링이 더 많이 되겠지만, RAM이 부족하면 오히려 더 느려지거나 훈련이 중단되는 등 에러가 날 것이기 때문에 신중히 선택해 주세요.\n",
    "\n",
    "- 얼마가 적절한 Epoch 회수인지는 모델링을 해 봐야 가늠할 수 있으나, 실습시간의 한계로 50으로 두고 실행하겠습니다. (과적합이 발생하지 않고 로스가 계속 줄어든다면 많이 트레이닝할수록 좋음)\n",
    "\n",
    "- Yolov5는 목적에 따라 Light한 나노 모델부터 Heavy한 XLarge 모델을 제공하고 있습니다(nano - small - medium - large - Xlarge). Light한 모델일수록 구조가 단순하고 추론 속도는 빠르지만 정확도는 떨어집니다. 어떤 모델을 가져와 트레이닝할 것인지는 --weights 옵션을 통해 설정합니다.(이번 실습은 Small 모델로 진행)"
   ]
  },
  {
   "attachments": {},
   "cell_type": "markdown",
   "metadata": {},
   "source": [
    "### tensorboard를 실행하여 모델링 진행 사항을 확인\n",
    "\n",
    "1. 커멘드 창을 새롭게 하나 열고, '{가상환경 경로명}\\Scripts\\tensorboard --logdir {yolov5-master 경로명}\\runs\\train'을 입력하고 실행합니다.\n",
    "\n",
    "2. 브라우저를 열고 주소창에 'localhost:6060' 입력, 이동합니다."
   ]
  },
  {
   "attachments": {},
   "cell_type": "markdown",
   "metadata": {},
   "source": [
    "### 모델링이 끝나면 test_video.mp4 파일을 이용해 감지가 잘 되는지 확인\n",
    "\n",
    "- 한 Epoch가 끝나고나면 2개의 모델 파일(best.pt, last.pt)이 자동으로 생성됩니다.\n",
    "\n",
    "  - {yolo5-master 경로명}\\runs\\train\\exp\\weight\\ 폴더에 저장되어 있습니다.\n",
    "\n",
    "  - best는 전체 epoch 중 loss가 가장 적었던 weight파일, last는 마지막 epoch 때 저장된 weight파일을 의미합니다.\n",
    "\n",
    "- .pt 파일은 파이토치용 binary weight 파일로, yolov5는 이 파일을 이용해 물체감지를 바로할 수 있는 코드를 제공하고 있습니다. (detect.py)\n",
    "\n",
    "- 샘플 영상파일을 준비한 후 아래와 같이 detect.py 코드를 실행하면 물체감지 테스트 결과를 확인할 수 있습니다.\n",
    "\n",
    ">{가상환경 경로명}\\Scripts\\python.exe {yolo5-master 경로명}\\detect.py --weights {yolo5-master 경로명}\\runs\\train\\exp\\weights\\best.pt --source {실습파일 경로명}\\test_images\\test_video.mp4 --conf-thres 0.6"
   ]
  },
  {
   "attachments": {},
   "cell_type": "markdown",
   "metadata": {},
   "source": [
    "### detect.py 파일을 이용해 모델을 현업에 적용할 순 있겠으나, 디테일한 튜닝이나 활용은 무리\n",
    "\n",
    "→ 내 입맛에 맞게 모델을 활용하려면 사용자 코드를 직접 만들어 구현해야 합니다."
   ]
  }
 ],
 "metadata": {
  "kernelspec": {
   "display_name": "Python 3.9.10 ('venv_common': venv)",
   "language": "python",
   "name": "python3"
  },
  "language_info": {
   "name": "python",
   "version": "3.9.10"
  },
  "orig_nbformat": 4,
  "vscode": {
   "interpreter": {
    "hash": "00788648533811c0d4af57f0819dead35b430506c7c842538b9d24915bb6fd49"
   }
  }
 },
 "nbformat": 4,
 "nbformat_minor": 2
}
