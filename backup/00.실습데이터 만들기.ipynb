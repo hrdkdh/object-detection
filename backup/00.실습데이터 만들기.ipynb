{
 "cells": [
  {
   "cell_type": "code",
   "execution_count": null,
   "metadata": {},
   "outputs": [],
   "source": [
    "import os\n",
    "import shutil\n",
    "import zipfile\n",
    "from tqdm import tqdm"
   ]
  },
  {
   "attachments": {},
   "cell_type": "markdown",
   "metadata": {},
   "source": [
    "### 원본 데이터셋 압축해제"
   ]
  },
  {
   "attachments": {},
   "cell_type": "markdown",
   "metadata": {},
   "source": [
    "AI Hub에서 다운로드 받은 주행 중 건물 이미지 데이터셋을 원본으로 한다."
   ]
  },
  {
   "cell_type": "code",
   "execution_count": null,
   "metadata": {},
   "outputs": [],
   "source": [
    "cate_list = [\"Training\", \"Validation\"]\n",
    "for cate in cate_list:\n",
    "    src_dir = \"E:/pgu_traffic_dataset/org/{}\".format(cate)\n",
    "    dst_dir = \"E:/pgu_traffic_dataset/unzipped/{}\".format(cate)\n",
    "    file_list = os.listdir(src_dir)\n",
    "    for file in tqdm(file_list):\n",
    "        zipfile.ZipFile(\"{}/{}\".format(src_dir, file)).extractall(dst_dir)"
   ]
  },
  {
   "attachments": {},
   "cell_type": "markdown",
   "metadata": {},
   "source": [
    "### 라벨 파일이 없는 이미지 파일 확인"
   ]
  },
  {
   "cell_type": "code",
   "execution_count": null,
   "metadata": {},
   "outputs": [],
   "source": [
    "image_file_list = []\n",
    "annotation_file_list = []\n",
    "for cate in [\"Training\", \"Validation\"]:\n",
    "    dst_dir = \"E:/pgu_traffic_dataset/unzipped/{}\".format(cate)\n",
    "    \n",
    "    image_file_list.extend([x.split(\".\")[0] for x in os.listdir(\"{}/{}\".format(dst_dir, \"images\"))])\n",
    "    annotation_file_list.extend([x.replace(\"_BBOX\", \"\").split(\".\")[0] for x in os.listdir(\"{}/{}\".format(dst_dir, \"annotations\")) if \"BBOX\" in x])\n",
    "\n",
    "image_file_list.sort()\n",
    "annotation_file_list.sort()\n",
    "annotation_not_exist = []\n",
    "for file in tqdm(image_file_list):\n",
    "    if file not in annotation_file_list:\n",
    "        annotation_not_exist.append(file)\n",
    "len(annotation_not_exist) # -> 3,444개의 이미지 파일에 라벨 파일이 없음"
   ]
  },
  {
   "attachments": {},
   "cell_type": "markdown",
   "metadata": {},
   "source": [
    "### 라벨 파일이 있는 이미지만 데이터셋으로 분류하고 복사"
   ]
  },
  {
   "cell_type": "code",
   "execution_count": null,
   "metadata": {},
   "outputs": [],
   "source": [
    "src_dir_training = \"E:/pgu_traffic_dataset/unzipped/Training\"\n",
    "src_dir_validation = \"E:/pgu_traffic_dataset/unzipped/Validation\"\n",
    "dst_dir_images = \"E:/pgu_traffic_dataset/cleaned/images\"\n",
    "dst_dir_annotations = \"E:/pgu_traffic_dataset/cleaned/annotations\"\n",
    "for file in tqdm(image_file_list):\n",
    "    if file in annotation_file_list:\n",
    "        img_src = None\n",
    "        ann_src = None\n",
    "        img_file_exist_t = os.path.isfile(\"{}/images/{}.png\".format(src_dir_training, file))\n",
    "        img_file_exist_v = os.path.isfile(\"{}/images/{}.png\".format(src_dir_validation, file))\n",
    "        ann_file_exist_t = os.path.isfile(\"{}/annotations/{}_BBOX.json\".format(src_dir_training, file))\n",
    "        ann_file_exist_v = os.path.isfile(\"{}/annotations/{}_BBOX.json\".format(src_dir_validation, file))\n",
    "        if img_file_exist_t is True:\n",
    "            img_src = \"{}/images/{}.png\".format(src_dir_training, file)\n",
    "        if img_file_exist_v is True:\n",
    "            img_src = \"{}/images/{}.png\".format(src_dir_validation, file)\n",
    "        if ann_file_exist_t is True:\n",
    "            ann_src = \"{}/annotations/{}_BBOX.json\".format(src_dir_training, file)\n",
    "        if ann_file_exist_v is True:\n",
    "            ann_src = \"{}/annotations/{}_BBOX.json\".format(src_dir_validation, file)\n",
    "\n",
    "        if img_src is not None or ann_src is not None:\n",
    "            shutil.copy(img_src, \"{}/{}.png\".format(dst_dir_images, file))\n",
    "            shutil.copy(ann_src, \"{}/{}.json\".format(dst_dir_annotations, file))"
   ]
  },
  {
   "attachments": {},
   "cell_type": "markdown",
   "metadata": {},
   "source": [
    "### 파일이 제대로 있는지 최종 체크"
   ]
  },
  {
   "cell_type": "code",
   "execution_count": null,
   "metadata": {},
   "outputs": [],
   "source": [
    "dst_dir_images = \"E:/pgu_traffic_dataset/cleaned/images\"\n",
    "dst_dir_annotations = \"E:/pgu_traffic_dataset/cleaned/annotations\"\n",
    "\n",
    "img_file_list = [x.split(\".\")[0] for x in os.listdir(dst_dir_images)]\n",
    "ann_file_list = [x.split(\".\")[0] for x in os.listdir(dst_dir_annotations)]\n",
    "\n",
    "len(img_file_list), len(ann_file_list)"
   ]
  },
  {
   "cell_type": "code",
   "execution_count": null,
   "metadata": {},
   "outputs": [],
   "source": [
    "for img_file in tqdm(img_file_list):\n",
    "    if img_file not in ann_file_list:\n",
    "        print(img_file)"
   ]
  }
 ],
 "metadata": {
  "kernelspec": {
   "display_name": "Python 3",
   "language": "python",
   "name": "python3"
  },
  "language_info": {
   "codemirror_mode": {
    "name": "ipython",
    "version": 3
   },
   "file_extension": ".py",
   "mimetype": "text/x-python",
   "name": "python",
   "nbconvert_exporter": "python",
   "pygments_lexer": "ipython3",
   "version": "3.9.13 (tags/v3.9.13:6de2ca5, May 17 2022, 16:36:42) [MSC v.1929 64 bit (AMD64)]"
  },
  "orig_nbformat": 4,
  "vscode": {
   "interpreter": {
    "hash": "23325e80c9f316d73185d157e5731c4cede8ed9153aefc4fbcc47143c2eb7be7"
   }
  }
 },
 "nbformat": 4,
 "nbformat_minor": 2
}
