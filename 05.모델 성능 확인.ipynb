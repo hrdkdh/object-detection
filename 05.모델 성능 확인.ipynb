{
 "cells": [
  {
   "attachments": {},
   "cell_type": "markdown",
   "metadata": {},
   "source": [
    "C:\\Users\\poscohrd\\Desktop\\venv\\venv_yolo5\\Scripts\\python.exe C:\\Users\\poscohrd\\Desktop\\yolov5-master\\detect.py --weights C:\\Users\\poscohrd\\Desktop\\yolov5-master\\runs\\train\\exp4\\weights\\best.pt --source C:\\Users\\poscohrd\\Desktop\\yolov5-master\\test_video.mp4 --conf-thres 0.6"
   ]
  }
 ],
 "metadata": {
  "kernelspec": {
   "display_name": "venv_yolo5",
   "language": "python",
   "name": "python3"
  },
  "language_info": {
   "name": "python",
   "version": "3.9.13 (tags/v3.9.13:6de2ca5, May 17 2022, 16:36:42) [MSC v.1929 64 bit (AMD64)]"
  },
  "orig_nbformat": 4,
  "vscode": {
   "interpreter": {
    "hash": "e07a93109243a348407d1f03253e5345c90486d4c6916849ea5c37472b4717ef"
   }
  }
 },
 "nbformat": 4,
 "nbformat_minor": 2
}
