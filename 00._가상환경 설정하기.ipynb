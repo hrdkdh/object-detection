{
 "cells": [
  {
   "attachments": {},
   "cell_type": "markdown",
   "metadata": {},
   "source": [
    "## Python 3.9.10 버전 인터프리터 + 가상환경 방식으로 진행합니다.\n",
    "\n",
    "아래 순서대로 가상환경을 구축한 후 실습을 진행해 주세요.\n",
    "\n",
    "※GPU 드라이버, CUDA, cuDNN 설치 및 세팅은 완료되어 있다고 가정하고 건너뜁니다.\n",
    "\n",
    "#### 1. Python 설치(PC에 파이썬이 설치되어 있을 경우 Pass)\n",
    "\n",
    "- https://www.python.org/ftp/python/3.9.10/python-3.9.10-amd64.exe\n",
    "\n",
    "#### 2. VS CODE 설치(PC에 설치되어 있을 경우 Pass)\n",
    "\n",
    "- https://code.visualstudio.com/sha/download?build=stable&os=win32-x64-user\n",
    "\n",
    "#### 3. (사내망의 경우) pip를 SSL Error없이 원활히 실행하기 위해 아래와 같이 진행합니다.\n",
    "\n",
    "- 파일 탐색기를 열고 C: → 사용자 → poscouser(혹은 본인의 윈도우 계정 이름) 폴더로 진입\n",
    "\n",
    "- 새로운 폴더를 만들고 폴더명을 'pip'로 변경\n",
    "\n",
    "- 만들어진 pip 폴더로 들어간 후, 오른쪽 마우스 클릭 → 새로 만들기 → 텍스트 문서 클릭\n",
    "\n",
    "- 만들어진 파일을 더블클릭해 메모장으로 실행한 후, 아래 내용을 복사/붙여넣기하고 저장, 메모장 종료\n",
    "\n",
    ">\n",
    ">[global]\n",
    ">trusted-host = pypi.org\n",
    ">\n",
    ">               files.pythonhosted.org\n",
    "\n",
    "- 저장한 파일의 이름을 'pip.ini'로 변경\n",
    "\n",
    "#### 4. OD 프로젝트를 위한 파이썬 가상환경 생성\n",
    "\n",
    "- 커맨드 프롬프트 실행 후 아래 명령어 입력\n",
    "\n",
    ">cd Desktop\n",
    ">\n",
    ">mkdir venv\n",
    ">\n",
    ">cd venv\n",
    ">\n",
    ">python -m venv venv_od\n",
    "\n",
    "#### 5. vs code의 인터프리터를 가상환경 인터프리터로 설정\n",
    "\n",
    "- vs code에서 'Ctrl + Shift + p' 를 눌러 파레트를 실행한 다음 'interpreter' 입력해 검색\n",
    "\n",
    "- 'Python: Select Interpreter'를 선택한 후 'Enter Interpreter Path'를 선택, 'Find' 클릭\n",
    "\n",
    "- 바탕화면 → venv → venv_od → Scripts 폴더로 들어간 다음 'python.exe' 선택 후 확인"
   ]
  },
  {
   "attachments": {},
   "cell_type": "markdown",
   "metadata": {},
   "source": [
    "## pytorch와 각종 패키지 설치\n",
    "\n",
    "파이토치는 CUDA 버전에 맞춰 적합한 버전을 설치해야 합니다.\n",
    "\n",
    "#### 1. vs code에서 'Ctrl + Shift + ~'를 눌러 터미널을 실행합니다.\n",
    "\n",
    "- Powershell로 실행될 경우 오류가 날 수 있습니다. command prompt로 띄워 주세요.\n",
    "\n",
    "#### 2. 터미널에서 pip upgrade 후 필요한 기본 패키지를 설치합니다.\n",
    "\n",
    ">pip install --upgrade pip\n",
    ">\n",
    ">pip install opencv-python tqdm pandas shutil"
   ]
  }
 ],
 "metadata": {
  "kernelspec": {
   "display_name": "venv_yolo5",
   "language": "python",
   "name": "python3"
  },
  "language_info": {
   "name": "python",
   "version": "3.9.13 (tags/v3.9.13:6de2ca5, May 17 2022, 16:36:42) [MSC v.1929 64 bit (AMD64)]"
  },
  "orig_nbformat": 4,
  "vscode": {
   "interpreter": {
    "hash": "e07a93109243a348407d1f03253e5345c90486d4c6916849ea5c37472b4717ef"
   }
  }
 },
 "nbformat": 4,
 "nbformat_minor": 2
}
