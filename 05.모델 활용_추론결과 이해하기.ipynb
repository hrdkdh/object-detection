{
 "cells": [
  {
   "attachments": {},
   "cell_type": "markdown",
   "metadata": {},
   "source": [
    "### Pytorch 모델 파일을 tensorflow 파일로 변환, 이미지 입력 후 prediction하고, 후처리하여 출력"
   ]
  },
  {
   "attachments": {},
   "cell_type": "markdown",
   "metadata": {},
   "source": [
    "아래 코드를 실행시켜 학습이 완료된 pytorch 모델파일(best.pt)을 tensorflow 모델파일(saved model)로 변환합니다.\n",
    "\n",
    ">{가상환경 경로명}\\Scripts\\python.exe {yolov5-master 경로명}\\export.py --weights {yolov5-master 경로명}\\runs\\train\\exp\\weights\\best.pt --include saved_model\n",
    "\n",
    "{yolov5-master 경로명}\\runs\\train\\exp\\weights 폴더로 들어가면 tensorflow 모델로 변환된 'saved_model' 폴더가 생성된 것을 확인할 수 있습니다.\n",
    "\n",
    "'saved_model' 폴더를 실습파일이 있는 경로(현재 보고 있는 이 주피터 노트북 파일이 있는 경로)로 복사해 옵니다."
   ]
  },
  {
   "cell_type": "code",
   "execution_count": 1,
   "metadata": {},
   "outputs": [],
   "source": [
    "import cv2\n",
    "import numpy as np\n",
    "import tensorflow as tf"
   ]
  },
  {
   "cell_type": "code",
   "execution_count": 2,
   "metadata": {},
   "outputs": [
    {
     "name": "stderr",
     "output_type": "stream",
     "text": [
      "WARNING:absl:Importing a function (__inference_pruned_6862) with ops with unsaved custom gradients. Will likely fail if a gradient is requested.\n"
     ]
    }
   ],
   "source": [
    "#tf saved_model로 변환된 모델 파일 로드\n",
    "model = tf.saved_model.load(\"best_saved_model\")"
   ]
  },
  {
   "cell_type": "code",
   "execution_count": 3,
   "metadata": {},
   "outputs": [
    {
     "name": "stdout",
     "output_type": "stream",
     "text": [
      "serving_default ConcreteFunction signature_wrapper(*, x)\n",
      "  Args:\n",
      "    x: float32 Tensor, shape=(1, 640, 640, 3)\n",
      "  Returns:\n",
      "    {'output_0': <1>}\n",
      "      <1>: float32 Tensor, shape=(1, 25200, 7)\n"
     ]
    }
   ],
   "source": [
    "#모델의 입출력 구조 확인 → 입력은 (1, 640, 640, 3), 출력은 (1, 25200, 7)임을 알 수 있음\n",
    "for k, v in model.signatures.items():\n",
    "    print(k, v)"
   ]
  },
  {
   "attachments": {},
   "cell_type": "markdown",
   "metadata": {},
   "source": [
    "이미지 하나를 로드해 모델에 입력으로 넣고 prediction한 결과를 봅니다."
   ]
  },
  {
   "cell_type": "code",
   "execution_count": 4,
   "metadata": {},
   "outputs": [
    {
     "data": {
      "text/plain": [
       "(2268, 4032, 3)"
      ]
     },
     "execution_count": 4,
     "metadata": {},
     "output_type": "execute_result"
    }
   ],
   "source": [
    "#테스트할 이미지를 행렬로 로드\n",
    "src = cv2.imread(\"test_images/test_image1.jpg\")\n",
    "src_converted = cv2.cvtColor(src, cv2.COLOR_BGR2RGB)\n",
    "src_converted.shape # -> (2268, 4032, 3) 4032 x 2268 사이즈의 3채널 컬러이미지"
   ]
  },
  {
   "cell_type": "code",
   "execution_count": 5,
   "metadata": {},
   "outputs": [
    {
     "data": {
      "text/plain": [
       "(640, 640, 3)"
      ]
     },
     "execution_count": 5,
     "metadata": {},
     "output_type": "execute_result"
    }
   ],
   "source": [
    "#우리가 만든 모델은 (1, 640, 640, 3)을 입력으로 받으므로, 그에 맞게 resize & reshape을 진행\n",
    "# ※입력에 차원이 하나 더 붙어있는 이유는 배치 때문으로, resize 후 reshape을 통해 변환\n",
    "\n",
    "src_resized = cv2.resize(src_converted, (640, 640))\n",
    "src_resized.shape # -> (640, 640, 3)"
   ]
  },
  {
   "cell_type": "code",
   "execution_count": 6,
   "metadata": {},
   "outputs": [
    {
     "data": {
      "text/plain": [
       "(1, 640, 640, 3)"
      ]
     },
     "execution_count": 6,
     "metadata": {},
     "output_type": "execute_result"
    }
   ],
   "source": [
    "src_resized = src_resized.reshape((1, 640, 640, 3))\n",
    "src_resized.shape"
   ]
  },
  {
   "cell_type": "code",
   "execution_count": 7,
   "metadata": {},
   "outputs": [
    {
     "data": {
      "text/plain": [
       "TensorShape([1, 25200, 7])"
      ]
     },
     "execution_count": 7,
     "metadata": {},
     "output_type": "execute_result"
    }
   ],
   "source": [
    "#추론 실행\n",
    "pred = model(src_resized)\n",
    "pred[0].shape # -> TensorShape([1, 25200, 7])  *numpy가 아니라 tf 프레임웍 포맷에 맞춰 출력"
   ]
  },
  {
   "cell_type": "code",
   "execution_count": 8,
   "metadata": {},
   "outputs": [
    {
     "data": {
      "text/plain": [
       "array([[ 1.86721645e-02, -1.87345489e-03,  3.46859507e-02, ...,\n",
       "         2.33685728e-02,  2.97064800e-02,  9.45612609e-01],\n",
       "       [ 1.86640378e-02,  5.39534260e-03,  2.74656694e-02, ...,\n",
       "         1.21878463e-09,  1.17530655e-02,  9.89085913e-01],\n",
       "       [ 1.86193492e-02, -6.50437956e-04,  4.78976294e-02, ...,\n",
       "         9.69655514e-01,  1.56350777e-01,  7.28169084e-01],\n",
       "       ...,\n",
       "       [ 9.94192719e-01,  9.82448399e-01,  5.02370223e-02, ...,\n",
       "         7.26965227e-05,  6.62724301e-02,  8.54448140e-01],\n",
       "       [ 9.76914823e-01,  9.73752201e-01,  1.22365519e-01, ...,\n",
       "         1.79213268e-04,  1.56533509e-01,  8.33407998e-01],\n",
       "       [ 9.79755223e-01,  9.77258623e-01,  1.05926394e-01, ...,\n",
       "         8.61017397e-05,  8.64517868e-01,  6.72855452e-02]], dtype=float32)"
      ]
     },
     "execution_count": 8,
     "metadata": {},
     "output_type": "execute_result"
    }
   ],
   "source": [
    "#제일 앞에 있는 1차원은 의미 없고 나머지 차원이 중요 -> 25200행 * 7열\n",
    "#25200행 : 입력에 따라 추론한 25200개의 객체검출 결과\n",
    "#7열 : 행별 결과내용 → [cx, cy, w, h, obj conf, c1 conf, c2 conf]\n",
    "# 0~3번째 열은 검출한 바운딩 박스 정보\n",
    "# 4번째 열은 바운딩 박스 안에 객체가 있을 확률\n",
    "# 5번째 열은 검출한 객체가 1번 클래스(도로표지판)일 확률\n",
    "# 6번째 열은 검출한 객체가 2번 클래스(신호등)일 확률\n",
    "\n",
    "pred = pred[0][0].numpy() #필요없는 차원들은 제거하고 (25200, 7)만 선택해 numpy 행렬로 변환한 후 pred에 덮어 씌움\n",
    "pred"
   ]
  },
  {
   "cell_type": "code",
   "execution_count": 9,
   "metadata": {},
   "outputs": [
    {
     "data": {
      "text/plain": [
       "array([[5.82638681e-01, 4.39488262e-01, 3.28190254e-05, ...,\n",
       "        1.00000000e+00, 1.19516946e-29, 1.00000000e+00],\n",
       "       [4.32306737e-01, 6.81562662e-01, 1.94896050e-02, ...,\n",
       "        1.00000000e+00, 1.48033621e-07, 9.99674797e-01],\n",
       "       [3.43600273e-01, 4.50095862e-01, 5.37785795e-03, ...,\n",
       "        1.00000000e+00, 9.96729374e-01, 8.34988281e-02],\n",
       "       ...,\n",
       "       [7.18276441e-01, 7.68776417e-01, 2.74658203e-02, ...,\n",
       "        0.00000000e+00, 1.00000000e+00, 1.84853044e-12],\n",
       "       [6.60836697e-01, 8.81302536e-01, 5.85933179e-02, ...,\n",
       "        0.00000000e+00, 6.40474451e-10, 9.99373615e-01],\n",
       "       [6.67989194e-01, 9.06158566e-01, 4.74812929e-03, ...,\n",
       "        0.00000000e+00, 1.10505754e-03, 9.99997377e-01]], dtype=float32)"
      ]
     },
     "execution_count": 9,
     "metadata": {},
     "output_type": "execute_result"
    }
   ],
   "source": [
    "#pred의 4번째 행(pred[:, 4])를 기준으로 정렬하면 객체가 있을 확률이 높은 순서대로 결과를 볼 수 있음\n",
    "rank = np.argsort(-pred[:, 4])\n",
    "pred = pred[rank]\n",
    "pred"
   ]
  },
  {
   "attachments": {},
   "cell_type": "markdown",
   "metadata": {},
   "source": [
    "추론한 바운딩 박스 정보를 원본 이미지에 그린 후 결과를 봅니다."
   ]
  },
  {
   "cell_type": "code",
   "execution_count": 97,
   "metadata": {},
   "outputs": [],
   "source": [
    "def getXyxy(cxcywh):\n",
    "    x1 = cxcywh[0] - (cxcywh[2]/2)\n",
    "    y1 = cxcywh[1] - (cxcywh[3]/2)\n",
    "    x2 = x1 + cxcywh[2]\n",
    "    y2 = y1 + cxcywh[3]\n",
    "    return [x1, y1, x2, y2]\n",
    "\n",
    "def getCandidatesByClass(pred, class_names, conf_thres=0.8):\n",
    "    class_len = pred[0].shape[0] - 5 #cx, cy, w, h, c 를 뺀 나머지가 클래스의 개수이다.\n",
    "    candidate_list = []\n",
    "    for class_no in range(class_len):\n",
    "        candidate_list.append({\n",
    "            \"class_no\" : class_no,\n",
    "            \"class_name\" : class_names[class_no],\n",
    "            \"bboxes(xyxy)\" : []\n",
    "        })\n",
    "    for item in pred:\n",
    "        this_class_no = item[5:].argmax() #클래스별 확률값을 담고 있는 요소들만 슬라이싱한 후 최대값이 위치한 곳의 index 번호 가져오기\n",
    "        #################### conf 값 계산이 중요!!!!\n",
    "        # this_conf = item[4] * item[5 + this_class_no] #obj conf와 class conf를 곱해 최종 conf를 뽑아낸다.\n",
    "        this_conf = item[4]\n",
    "        for class_conf in item[5:]:\n",
    "            this_conf *= class_conf #obj conf와 class conf를 곱해 최종 conf를 뽑아낸다.\n",
    "        ####################\n",
    "        if this_conf >= conf_thres:\n",
    "            this_result = getXyxy(item[:4])\n",
    "            this_result.append(this_conf)\n",
    "            candidate_list[this_class_no][\"bboxes(xyxy)\"].append(this_result)\n",
    "    for class_no in range(class_len):\n",
    "        candidate_list[class_no][\"bboxes(xyxy)\"] = np.array(candidate_list[class_no][\"bboxes(xyxy)\"])\n",
    "        candidate_list[class_no][\"bboxes(xyxy)\"] = candidate_list[class_no][\"bboxes(xyxy)\"][candidate_list[class_no][\"bboxes(xyxy)\"][:, -1].argsort()[::-1]]\n",
    "        candidate_list[class_no][\"bbox_cnt\"] = candidate_list[class_no][\"bboxes(xyxy)\"].shape[0]\n",
    "    return candidate_list\n",
    "\n",
    "def IoU(box1, box2):\n",
    "    # box = (x1, y1, x2, y2)\n",
    "    box1_area = (box1[2] - box1[0] + 1) * (box1[3] - box1[1] + 1)\n",
    "    box2_area = (box2[2] - box2[0] + 1) * (box2[3] - box2[1] + 1)\n",
    "\n",
    "    # obtain x1, y1, x2, y2 of the intersection\n",
    "    x1 = max(box1[0], box2[0])\n",
    "    y1 = max(box1[1], box2[1])\n",
    "    x2 = min(box1[2], box2[2])\n",
    "    y2 = min(box1[3], box2[3])\n",
    "\n",
    "    # compute the width and height of the intersection\n",
    "    w = max(0, x2 - x1 + 1)\n",
    "    h = max(0, y2 - y1 + 1)\n",
    "\n",
    "    inter = w * h\n",
    "    iou = inter / (box1_area + box2_area - inter)\n",
    "    return iou\n",
    "\n",
    "def nms1(candidate_list, iou_thres = 0.45, merge_thres = 0.75, print_iou=False):\n",
    "    result = candidate_list.copy()\n",
    "    idx_list_to_delete = []\n",
    "    for idx, item in enumerate(candidate_list):\n",
    "        if idx+1 < len(candidate_list):\n",
    "            next_item = candidate_list[idx+1]\n",
    "            box1 = item[:4]\n",
    "            box2 = next_item[:4]\n",
    "            iou = IoU(item[:4], next_item[:4])\n",
    "            if print_iou:\n",
    "                print(iou)\n",
    "            if iou > merge_thres: #bbox를 합쳐버린다~!\n",
    "                x1 = min(box1[0], box2[0])\n",
    "                y1 = min(box1[1], box2[1])\n",
    "                x2 = max(box1[2], box2[2])\n",
    "                y2 = max(box1[3], box2[3])\n",
    "                replace_val = [x1, y1, x2, y2, item[4]]\n",
    "                result[idx] = replace_val\n",
    "                idx_list_to_delete.append(idx+1)\n",
    "            elif iou > iou_thres:\n",
    "                idx_list_to_delete.append(idx+1)\n",
    "    result = np.delete(result, idx_list_to_delete, axis=0)\n",
    "    return result\n",
    "\n",
    "def nms2(bboxes, iou_thres = 0.45, merge_thres = 0.75, print_iou=False): #겹치는 면적이 iou_thres를 넘으면 하나만 선택한다.\n",
    "    B = bboxes\n",
    "\n",
    "    #1) 해당 클래스에 대해 최종적으로 남길 bounding box 를 담을 리스트 D를 생성\n",
    "    # B 중에서 class score 가 가장 높은 bounding box 를 선택하고 D에 추가하고 B에서 삭제\n",
    "    argmax_B = B[:, -1].argmax()\n",
    "    T = B[argmax_B] #B의 최대값을 담을 임시 변수 T 생성\n",
    "    B = np.delete(B, argmax_B, axis=0)\n",
    "    D = None #검사가 완료된 최종 D만 담을 리스트\n",
    "\n",
    "    #2) D에 추가된 class score 가 가장 높은 bounding box 와 B에 담긴 bounding box 와의 IOU (Intersection Over Union) 을 계산\n",
    "    while True:\n",
    "        idx_to_delete_from_B = []\n",
    "        for idx, B_item in enumerate(B):\n",
    "            # IOU 가 주어진 임계치 iou_thres보다 크다면 B에서 제거\n",
    "            iou = IoU(T[:4], B_item[:4])\n",
    "            if iou > iou_thres:\n",
    "                idx_to_delete_from_B.append(idx)\n",
    "        B = np.delete(B, idx_to_delete_from_B, axis=0)\n",
    "        if D is None:\n",
    "            D = T.copy()\n",
    "            D = D.reshape(1, 5)\n",
    "        else:\n",
    "            D = np.vstack([D, T])\n",
    "        print(\"D : {}\".format(len(D)), \"B : {}\".format(len(B)))\n",
    "\n",
    "        if len(B) > 0:\n",
    "            #3) 2번 과정을 수행하고 B에 남은 bounding box 중 가장 큰 class score 를 가진 bounding box 를 D에 추가하고 B에서 제거한 후 2번 과정을 반복\n",
    "            #B에 bounding box 가 남지 않을 때까지 반복\n",
    "            argmax_B = B[:, -1].argmax()\n",
    "            T = B[argmax_B]\n",
    "            B = np.delete(B, argmax_B, axis=0)\n",
    "        else:\n",
    "            break\n",
    "    return D\n",
    "    \n",
    "\n",
    "conf_thres = 0.85\n",
    "class_names = [\"sign\", \"light\"]\n",
    "candidate_list = getCandidatesByClass(pred, class_names, conf_thres)\n",
    "candidate_list[0] = candidate_list[0][\"bboxes(xyxy)\"]\n",
    "candidate_list[1] = candidate_list[1][\"bboxes(xyxy)\"]\n",
    "# for candidate in candidate_list:\n",
    "#     this_bboxes = filterCandidates(candidate[\"bboxes(xyxy)\"])\n",
    "# for _ in range(10):\n",
    "#     candidate_list[1] = nms(candidate_list[1])\n",
    "# candidate_list[0].shape"
   ]
  },
  {
   "cell_type": "code",
   "execution_count": 99,
   "metadata": {},
   "outputs": [],
   "source": [
    "class_names = [\"sign\", \"light\"]\n",
    "dst = cv2.resize(src, (1600, int((1600*src.shape[0])/src.shape[1]))) #이미지가 너무 크므로 리사이즈한다.\n",
    "cnt =0\n",
    "for bbox in candidate_list[1]:\n",
    "    class_name = class_names[int(bbox[-1])]\n",
    "    class_conf = bbox[-2]\n",
    "    color = []\n",
    "    for _ in range(3):\n",
    "        color.append(np.random.randint(0, 255))\n",
    "    # color = (0, 255, 0)\n",
    "\n",
    "    # cx = int(bbox[0] * dst.shape[1])\n",
    "    # cy = int(bbox[1] * dst.shape[0])\n",
    "    # w = int(bbox[2] * dst.shape[1])\n",
    "    # h = int(bbox[3] * dst.shape[0])\n",
    "    # x = int(cx - (w/2))\n",
    "    # y = int(cy - (h/2))\n",
    "\n",
    "    x1 = int(bbox[0] * dst.shape[1])\n",
    "    y1 = int(bbox[1] * dst.shape[0])\n",
    "    x2 = int(bbox[2] * dst.shape[1])\n",
    "    y2 = int(bbox[3] * dst.shape[0])\n",
    "\n",
    "    # if w < 10 or h < 10:\n",
    "    #     continue\n",
    "\n",
    "    # cnt += 1\n",
    "    # if cnt > 2:\n",
    "    #     break\n",
    "\n",
    "    dst = cv2.rectangle(dst, (x1, y1), (x2, y2), color, 2)\n",
    "    dst = cv2.putText(dst, \"{}\".format(int(bbox[4]*100)), (x1, y1), cv2.FONT_HERSHEY_DUPLEX, 0.6, color, 1)\n",
    "cv2.imshow(\"dst\", dst)\n",
    "cv2.waitKey()\n",
    "cv2.destroyAllWindows()\n"
   ]
  },
  {
   "attachments": {},
   "cell_type": "markdown",
   "metadata": {},
   "source": [
    "Lessons\n",
    "\n",
    "1. 물체감지는 라벨링 작업에 시간이 많이 걸리므로, 이번 실습은 일반적으로 공개된 데이터를 활용해 진행할 수 밖에 없었다.\n",
    "\n",
    "2. 현업에서 실제 활용할 목적으로 모델을 만들고자 한다면, 수집한 이미지 데이터에 맞는 라벨링 작업이 필수로 요구된다."
   ]
  }
 ],
 "metadata": {
  "kernelspec": {
   "display_name": "venv_yolo5",
   "language": "python",
   "name": "python3"
  },
  "language_info": {
   "codemirror_mode": {
    "name": "ipython",
    "version": 3
   },
   "file_extension": ".py",
   "mimetype": "text/x-python",
   "name": "python",
   "nbconvert_exporter": "python",
   "pygments_lexer": "ipython3",
   "version": "3.9.13 (tags/v3.9.13:6de2ca5, May 17 2022, 16:36:42) [MSC v.1929 64 bit (AMD64)]"
  },
  "orig_nbformat": 4,
  "vscode": {
   "interpreter": {
    "hash": "e07a93109243a348407d1f03253e5345c90486d4c6916849ea5c37472b4717ef"
   }
  }
 },
 "nbformat": 4,
 "nbformat_minor": 2
}
